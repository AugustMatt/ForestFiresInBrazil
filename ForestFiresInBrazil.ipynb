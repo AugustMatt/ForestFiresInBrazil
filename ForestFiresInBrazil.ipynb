{
 "cells": [
  {
   "cell_type": "markdown",
   "id": "a9d1ac91-b493-459e-9cc4-dde18c234010",
   "metadata": {},
   "source": [
    "# Incendios Florestais no Brasil\n",
    "##### Esse conjunto de dados contem o numero de incendios florestais no Brasil por estados. Contem um periodo de aproximadamente 10 anos (1998 até 2017). Dados obtidos do site oficial do governo Brasileiro.\n",
    "##### Conjunto de dados obtido em: https://www.kaggle.com/datasets/gustavomodelli/forest-fires-in-brazil"
   ]
  },
  {
   "cell_type": "markdown",
   "id": "b730759e-d48f-4a5e-99f9-1dcfa532f7a7",
   "metadata": {},
   "source": [
    "# Problemas de negocio:\n",
    "* Qual estado tem o maior número de queimadas em um determinado período?\n",
    "* Como as queimadas mudaram ao longo dos anos em diferentes regiões?\n",
    "* Quais meses apresentam o maior número de queimadas?\n",
    "* Há correlação entre as queimadas e a localização geográfica (estados/regiões)?\n",
    "* Tendência de crescimento das queimadas ao longo do tempo?"
   ]
  },
  {
   "cell_type": "markdown",
   "id": "2122b7f8-37ef-467b-a9d7-20cdef2e36fe",
   "metadata": {},
   "source": [
    "# Extra:\n",
    "* Modelagem Preditiva: Se houver interesse em prever o número de queimadas para os próximos anos, você pode explorar técnicas de machine learning, como modelos de regressão linear, árvores de decisão, ou redes neurais.\n",
    "* Storytelling: Explorar ferramentas como Dash ou Plotly para criar visualizações interativas e contar uma história envolvente com os dados."
   ]
  },
  {
   "cell_type": "code",
   "execution_count": null,
   "id": "7437aa71-fbad-41e2-a5f4-34710fb6088d",
   "metadata": {},
   "outputs": [],
   "source": []
  }
 ],
 "metadata": {
  "kernelspec": {
   "display_name": "Python 3 (ipykernel)",
   "language": "python",
   "name": "python3"
  },
  "language_info": {
   "codemirror_mode": {
    "name": "ipython",
    "version": 3
   },
   "file_extension": ".py",
   "mimetype": "text/x-python",
   "name": "python",
   "nbconvert_exporter": "python",
   "pygments_lexer": "ipython3",
   "version": "3.12.4"
  }
 },
 "nbformat": 4,
 "nbformat_minor": 5
}
