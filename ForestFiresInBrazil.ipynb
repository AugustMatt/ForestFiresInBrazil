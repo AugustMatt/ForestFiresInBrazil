{
 "cells": [
  {
   "cell_type": "markdown",
   "id": "a9d1ac91-b493-459e-9cc4-dde18c234010",
   "metadata": {},
   "source": [
    "# Incendios Florestais no Brasil\n",
    "##### Esse conjunto de dados contem o numero de incendios florestais no Brasil por estados. Contem um periodo de aproximadamente 10 anos (1998 até 2017). Dados obtidos do site oficial do governo Brasileiro.\n",
    "##### Conjunto de dados obtido em: https://www.kaggle.com/datasets/gustavomodelli/forest-fires-in-brazil"
   ]
  },
  {
   "cell_type": "markdown",
   "id": "b730759e-d48f-4a5e-99f9-1dcfa532f7a7",
   "metadata": {},
   "source": [
    "# Problemas de negocio:\n",
    "* Qual estado tem o maior número de queimadas em um determinado período?\n",
    "* Como as queimadas mudaram ao longo dos anos em diferentes regiões?\n",
    "* Quais meses apresentam o maior número de queimadas?\n",
    "* Há correlação entre as queimadas e a localização geográfica (estados/regiões)?\n",
    "* Tendência de crescimento das queimadas ao longo do tempo?"
   ]
  },
  {
   "cell_type": "markdown",
   "id": "2122b7f8-37ef-467b-a9d7-20cdef2e36fe",
   "metadata": {},
   "source": [
    "# Extra:\n",
    "* Modelagem Preditiva: Se houver interesse em prever o número de queimadas para os próximos anos, você pode explorar técnicas de machine learning, como modelos de regressão linear, árvores de decisão, ou redes neurais.\n",
    "* Storytelling: Explorar ferramentas como Dash ou Plotly para criar visualizações interativas e contar uma história envolvente com os dados."
   ]
  },
  {
   "cell_type": "markdown",
   "id": "c94073a9-f788-4e34-af9e-05b217827dad",
   "metadata": {},
   "source": [
    "# 1 - Carregamento, Inspeção e Limpeza dos Dados:"
   ]
  },
  {
   "cell_type": "markdown",
   "id": "7fe85208-3d68-4053-8370-ab5519ebaa43",
   "metadata": {},
   "source": [
    "#### 1.1 - Importação das bibliotecas"
   ]
  },
  {
   "cell_type": "code",
   "execution_count": 14,
   "id": "96971fc0-417f-4460-bc05-8bdc8a0e64c6",
   "metadata": {},
   "outputs": [],
   "source": [
    "import pandas as pd\n",
    "import numpy as np\n",
    "import matplotlib.pyplot as plt"
   ]
  },
  {
   "cell_type": "markdown",
   "id": "f4e42733-507c-47ff-9e73-b6a926e61a6d",
   "metadata": {},
   "source": [
    "#### 1.2 - Carregando e visualizando os dados"
   ]
  },
  {
   "cell_type": "code",
   "execution_count": 15,
   "id": "ad7d6df4-38aa-4ac7-b1ad-70910982d36d",
   "metadata": {},
   "outputs": [],
   "source": [
    "df = pd.read_csv(\"amazon.csv\", encoding=\"latin_1\")"
   ]
  },
  {
   "cell_type": "code",
   "execution_count": 16,
   "id": "6e5e9538-b18a-4254-ae7a-a11ef020aab7",
   "metadata": {},
   "outputs": [
    {
     "data": {
      "text/html": [
       "<div>\n",
       "<style scoped>\n",
       "    .dataframe tbody tr th:only-of-type {\n",
       "        vertical-align: middle;\n",
       "    }\n",
       "\n",
       "    .dataframe tbody tr th {\n",
       "        vertical-align: top;\n",
       "    }\n",
       "\n",
       "    .dataframe thead th {\n",
       "        text-align: right;\n",
       "    }\n",
       "</style>\n",
       "<table border=\"1\" class=\"dataframe\">\n",
       "  <thead>\n",
       "    <tr style=\"text-align: right;\">\n",
       "      <th></th>\n",
       "      <th>year</th>\n",
       "      <th>state</th>\n",
       "      <th>month</th>\n",
       "      <th>number</th>\n",
       "      <th>date</th>\n",
       "    </tr>\n",
       "  </thead>\n",
       "  <tbody>\n",
       "    <tr>\n",
       "      <th>0</th>\n",
       "      <td>1998</td>\n",
       "      <td>Acre</td>\n",
       "      <td>Janeiro</td>\n",
       "      <td>0.0</td>\n",
       "      <td>1998-01-01</td>\n",
       "    </tr>\n",
       "    <tr>\n",
       "      <th>1</th>\n",
       "      <td>1999</td>\n",
       "      <td>Acre</td>\n",
       "      <td>Janeiro</td>\n",
       "      <td>0.0</td>\n",
       "      <td>1999-01-01</td>\n",
       "    </tr>\n",
       "    <tr>\n",
       "      <th>2</th>\n",
       "      <td>2000</td>\n",
       "      <td>Acre</td>\n",
       "      <td>Janeiro</td>\n",
       "      <td>0.0</td>\n",
       "      <td>2000-01-01</td>\n",
       "    </tr>\n",
       "    <tr>\n",
       "      <th>3</th>\n",
       "      <td>2001</td>\n",
       "      <td>Acre</td>\n",
       "      <td>Janeiro</td>\n",
       "      <td>0.0</td>\n",
       "      <td>2001-01-01</td>\n",
       "    </tr>\n",
       "    <tr>\n",
       "      <th>4</th>\n",
       "      <td>2002</td>\n",
       "      <td>Acre</td>\n",
       "      <td>Janeiro</td>\n",
       "      <td>0.0</td>\n",
       "      <td>2002-01-01</td>\n",
       "    </tr>\n",
       "  </tbody>\n",
       "</table>\n",
       "</div>"
      ],
      "text/plain": [
       "   year state    month  number        date\n",
       "0  1998  Acre  Janeiro     0.0  1998-01-01\n",
       "1  1999  Acre  Janeiro     0.0  1999-01-01\n",
       "2  2000  Acre  Janeiro     0.0  2000-01-01\n",
       "3  2001  Acre  Janeiro     0.0  2001-01-01\n",
       "4  2002  Acre  Janeiro     0.0  2002-01-01"
      ]
     },
     "execution_count": 16,
     "metadata": {},
     "output_type": "execute_result"
    }
   ],
   "source": [
    "df.head()"
   ]
  },
  {
   "cell_type": "code",
   "execution_count": 17,
   "id": "07773097-2e62-4568-bb8d-3c7ba6e2527f",
   "metadata": {},
   "outputs": [
    {
     "data": {
      "text/html": [
       "<div>\n",
       "<style scoped>\n",
       "    .dataframe tbody tr th:only-of-type {\n",
       "        vertical-align: middle;\n",
       "    }\n",
       "\n",
       "    .dataframe tbody tr th {\n",
       "        vertical-align: top;\n",
       "    }\n",
       "\n",
       "    .dataframe thead th {\n",
       "        text-align: right;\n",
       "    }\n",
       "</style>\n",
       "<table border=\"1\" class=\"dataframe\">\n",
       "  <thead>\n",
       "    <tr style=\"text-align: right;\">\n",
       "      <th></th>\n",
       "      <th>year</th>\n",
       "      <th>state</th>\n",
       "      <th>month</th>\n",
       "      <th>number</th>\n",
       "      <th>date</th>\n",
       "    </tr>\n",
       "  </thead>\n",
       "  <tbody>\n",
       "    <tr>\n",
       "      <th>6449</th>\n",
       "      <td>2012</td>\n",
       "      <td>Tocantins</td>\n",
       "      <td>Dezembro</td>\n",
       "      <td>128.0</td>\n",
       "      <td>2012-01-01</td>\n",
       "    </tr>\n",
       "    <tr>\n",
       "      <th>6450</th>\n",
       "      <td>2013</td>\n",
       "      <td>Tocantins</td>\n",
       "      <td>Dezembro</td>\n",
       "      <td>85.0</td>\n",
       "      <td>2013-01-01</td>\n",
       "    </tr>\n",
       "    <tr>\n",
       "      <th>6451</th>\n",
       "      <td>2014</td>\n",
       "      <td>Tocantins</td>\n",
       "      <td>Dezembro</td>\n",
       "      <td>223.0</td>\n",
       "      <td>2014-01-01</td>\n",
       "    </tr>\n",
       "    <tr>\n",
       "      <th>6452</th>\n",
       "      <td>2015</td>\n",
       "      <td>Tocantins</td>\n",
       "      <td>Dezembro</td>\n",
       "      <td>373.0</td>\n",
       "      <td>2015-01-01</td>\n",
       "    </tr>\n",
       "    <tr>\n",
       "      <th>6453</th>\n",
       "      <td>2016</td>\n",
       "      <td>Tocantins</td>\n",
       "      <td>Dezembro</td>\n",
       "      <td>119.0</td>\n",
       "      <td>2016-01-01</td>\n",
       "    </tr>\n",
       "  </tbody>\n",
       "</table>\n",
       "</div>"
      ],
      "text/plain": [
       "      year      state     month  number        date\n",
       "6449  2012  Tocantins  Dezembro   128.0  2012-01-01\n",
       "6450  2013  Tocantins  Dezembro    85.0  2013-01-01\n",
       "6451  2014  Tocantins  Dezembro   223.0  2014-01-01\n",
       "6452  2015  Tocantins  Dezembro   373.0  2015-01-01\n",
       "6453  2016  Tocantins  Dezembro   119.0  2016-01-01"
      ]
     },
     "execution_count": 17,
     "metadata": {},
     "output_type": "execute_result"
    }
   ],
   "source": [
    "df.tail()"
   ]
  },
  {
   "cell_type": "code",
   "execution_count": 18,
   "id": "e1cc68c4-c663-4445-9e41-26c1f076666d",
   "metadata": {},
   "outputs": [
    {
     "data": {
      "text/plain": [
       "year        int64\n",
       "state      object\n",
       "month      object\n",
       "number    float64\n",
       "date       object\n",
       "dtype: object"
      ]
     },
     "execution_count": 18,
     "metadata": {},
     "output_type": "execute_result"
    }
   ],
   "source": [
    "df.dtypes"
   ]
  },
  {
   "cell_type": "markdown",
   "id": "f7dfe331-ce3f-4ab9-948a-2574ed882342",
   "metadata": {},
   "source": [
    "##### 1.3 - Verificando valores ausentes"
   ]
  },
  {
   "cell_type": "code",
   "execution_count": 19,
   "id": "f6694718-1074-4e61-a913-95f28e8560f4",
   "metadata": {},
   "outputs": [
    {
     "data": {
      "text/plain": [
       "year      0\n",
       "state     0\n",
       "month     0\n",
       "number    0\n",
       "date      0\n",
       "dtype: int64"
      ]
     },
     "execution_count": 19,
     "metadata": {},
     "output_type": "execute_result"
    }
   ],
   "source": [
    "df.isnull().sum()"
   ]
  },
  {
   "cell_type": "code",
   "execution_count": 20,
   "id": "43527c26-8b11-452a-8488-4c598b41975e",
   "metadata": {},
   "outputs": [
    {
     "data": {
      "text/plain": [
       "year      0\n",
       "state     0\n",
       "month     0\n",
       "number    0\n",
       "date      0\n",
       "dtype: int64"
      ]
     },
     "execution_count": 20,
     "metadata": {},
     "output_type": "execute_result"
    }
   ],
   "source": [
    "df.isna().sum()"
   ]
  },
  {
   "cell_type": "markdown",
   "id": "74e3800a-1333-459a-b93e-98520f2e8b29",
   "metadata": {},
   "source": [
    "#### 1.4 - Informações gerais"
   ]
  },
  {
   "cell_type": "code",
   "execution_count": 21,
   "id": "fe5cada4-3d0d-4818-ab4f-5c94dbe76d8a",
   "metadata": {},
   "outputs": [
    {
     "data": {
      "text/plain": [
       "count    6454.000000\n",
       "mean      108.293163\n",
       "std       190.812242\n",
       "min         0.000000\n",
       "25%         3.000000\n",
       "50%        24.000000\n",
       "75%       113.000000\n",
       "max       998.000000\n",
       "Name: number, dtype: float64"
      ]
     },
     "execution_count": 21,
     "metadata": {},
     "output_type": "execute_result"
    }
   ],
   "source": [
    "# As unicas colunas numericas são o ano e o numero de queimadas. \n",
    "# Como não faz sentido analizar isso para o ano, fitro apenas para o numero de queimadas\n",
    "df['number'].describe()"
   ]
  },
  {
   "cell_type": "code",
   "execution_count": 22,
   "id": "a1a19313-0abd-475c-b336-bd5869181b48",
   "metadata": {},
   "outputs": [
    {
     "data": {
      "text/plain": [
       "array(['Acre', 'Alagoas', 'Amapa', 'Amazonas', 'Bahia', 'Ceara',\n",
       "       'Distrito Federal', 'Espirito Santo', 'Goias', 'Maranhao',\n",
       "       'Mato Grosso', 'Minas Gerais', 'Pará', 'Paraiba', 'Pernambuco',\n",
       "       'Piau', 'Rio', 'Rondonia', 'Roraima', 'Santa Catarina',\n",
       "       'Sao Paulo', 'Sergipe', 'Tocantins'], dtype=object)"
      ]
     },
     "execution_count": 22,
     "metadata": {},
     "output_type": "execute_result"
    }
   ],
   "source": [
    "# Quais estados foram contemplados nesse conjunto de dados\n",
    "df['state'].unique()"
   ]
  },
  {
   "cell_type": "markdown",
   "id": "9cb7ad90-85ac-4a7d-971d-c9e207600ce3",
   "metadata": {},
   "source": [
    "# 2 - Analise Exploratoria dos Dados (EDA)"
   ]
  },
  {
   "cell_type": "markdown",
   "id": "78758169-27c5-45a8-be00-8d7c3369fe5d",
   "metadata": {},
   "source": [
    "##### 2.1 - Total de Queimadas"
   ]
  },
  {
   "cell_type": "code",
   "execution_count": 23,
   "id": "a81275ee-f72f-48bb-9545-b4417fe1ddca",
   "metadata": {},
   "outputs": [
    {
     "data": {
      "image/png": "[encoded data removed]",
      "text/plain": [
       "<Figure size 1200x600 with 1 Axes>"
      ]
     },
     "metadata": {},
     "output_type": "display_data"
    }
   ],
   "source": [
    "# Total de queimadas por estado\n",
    "total_queimadas_por_estado = df.groupby('state')['number'].sum().sort_values()\n",
    "\n",
    "# Separando os labels (estados) e valores (total de queimadas)\n",
    "estados = total_queimadas_por_estado.index\n",
    "total_queimadas = total_queimadas_por_estado.values\n",
    "\n",
    "fig, ax = plt.subplots(figsize=(12, 6))\n",
    "\n",
    "ax.bar(estados, total_queimadas, color='tab:blue')\n",
    "\n",
    "# Rotacionando os rótulos dos estados no eixo X para facilitar a leitura\n",
    "plt.xticks(rotation=45, ha='right')\n",
    "\n",
    "# Adicionando grid ao gráfico\n",
    "ax.grid(axis=\"y\", color='gray', linestyle='--', linewidth=0.5)\n",
    "\n",
    "# Adicionando rótulos e título\n",
    "ax.set_ylabel('Total de Queimadas')\n",
    "ax.set_title('Total de Queimadas por Estado')\n",
    "\n",
    "# Exibindo o gráfico\n",
    "plt.show()"
   ]
  },
  {
   "cell_type": "code",
   "execution_count": null,
   "id": "95595a39-dbf3-4194-b483-3dcd2e1400b1",
   "metadata": {},
   "outputs": [],
   "source": []
  }
 ],
 "metadata": {
  "kernelspec": {
   "display_name": "Python 3 (ipykernel)",
   "language": "python",
   "name": "python3"
  },
  "language_info": {
   "codemirror_mode": {
    "name": "ipython",
    "version": 3
   },
   "file_extension": ".py",
   "mimetype": "text/x-python",
   "name": "python",
   "nbconvert_exporter": "python",
   "pygments_lexer": "ipython3",
   "version": "3.12.4"
  }
 },
 "nbformat": 4,
 "nbformat_minor": 5
}
